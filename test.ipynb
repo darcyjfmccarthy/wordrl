{
 "cells": [
  {
   "cell_type": "code",
   "execution_count": 12,
   "id": "d6c3fbd7",
   "metadata": {},
   "outputs": [
    {
     "ename": "AssertionError",
     "evalue": "tensorboard is not installed, you can use `pip install tensorboard` to do so",
     "output_type": "error",
     "traceback": [
      "\u001b[31m---------------------------------------------------------------------------\u001b[39m",
      "\u001b[31mAssertionError\u001b[39m                            Traceback (most recent call last)",
      "\u001b[36mCell\u001b[39m\u001b[36m \u001b[39m\u001b[32mIn[12]\u001b[39m\u001b[32m, line 8\u001b[39m\n\u001b[32m      5\u001b[39m \u001b[38;5;28;01mfrom\u001b[39;00m\u001b[38;5;250m \u001b[39m\u001b[34;01mdatetime\u001b[39;00m\u001b[38;5;250m \u001b[39m\u001b[38;5;28;01mimport\u001b[39;00m datetime\n\u001b[32m      7\u001b[39m log_dir = \u001b[33m\"\u001b[39m\u001b[33mruns/ppo\u001b[39m\u001b[33m\"\u001b[39m\n\u001b[32m----> \u001b[39m\u001b[32m8\u001b[39m new_logger = \u001b[43mconfigure\u001b[49m\u001b[43m(\u001b[49m\u001b[43mfolder\u001b[49m\u001b[43m=\u001b[49m\u001b[43mlog_dir\u001b[49m\u001b[43m,\u001b[49m\u001b[43m \u001b[49m\u001b[43mformat_strings\u001b[49m\u001b[43m=\u001b[49m\u001b[43m[\u001b[49m\u001b[33;43m\"\u001b[39;49m\u001b[33;43mstdout\u001b[39;49m\u001b[33;43m\"\u001b[39;49m\u001b[43m,\u001b[49m\u001b[43m \u001b[49m\u001b[33;43m\"\u001b[39;49m\u001b[33;43mcsv\u001b[39;49m\u001b[33;43m\"\u001b[39;49m\u001b[43m,\u001b[49m\u001b[43m \u001b[49m\u001b[33;43m\"\u001b[39;49m\u001b[33;43mtensorboard\u001b[39;49m\u001b[33;43m\"\u001b[39;49m\u001b[43m]\u001b[49m\u001b[43m)\u001b[49m\n\u001b[32m     10\u001b[39m env = RecordEpisodeStatistics(\n\u001b[32m     11\u001b[39m     WordleEnv(calendar=\u001b[38;5;28;01mNone\u001b[39;00m, eval_mode=\u001b[38;5;28;01mFalse\u001b[39;00m),  \u001b[38;5;66;03m# training\u001b[39;00m\n\u001b[32m     12\u001b[39m )\n\u001b[32m     14\u001b[39m model = PPO(\n\u001b[32m     15\u001b[39m     \u001b[33m\"\u001b[39m\u001b[33mMlpPolicy\u001b[39m\u001b[33m\"\u001b[39m, \n\u001b[32m     16\u001b[39m     env, \n\u001b[32m   (...)\u001b[39m\u001b[32m     23\u001b[39m     )\n\u001b[32m     24\u001b[39m )\n",
      "\u001b[36mFile \u001b[39m\u001b[32mc:\\Users\\darcy\\Documents\\wordrl\\venv\\Lib\\site-packages\\stable_baselines3\\common\\logger.py:661\u001b[39m, in \u001b[36mconfigure\u001b[39m\u001b[34m(folder, format_strings)\u001b[39m\n\u001b[32m    658\u001b[39m     format_strings = os.getenv(\u001b[33m\"\u001b[39m\u001b[33mSB3_LOG_FORMAT\u001b[39m\u001b[33m\"\u001b[39m, \u001b[33m\"\u001b[39m\u001b[33mstdout,log,csv\u001b[39m\u001b[33m\"\u001b[39m).split(\u001b[33m\"\u001b[39m\u001b[33m,\u001b[39m\u001b[33m\"\u001b[39m)\n\u001b[32m    660\u001b[39m format_strings = \u001b[38;5;28mlist\u001b[39m(\u001b[38;5;28mfilter\u001b[39m(\u001b[38;5;28;01mNone\u001b[39;00m, format_strings))\n\u001b[32m--> \u001b[39m\u001b[32m661\u001b[39m output_formats = [\u001b[43mmake_output_format\u001b[49m\u001b[43m(\u001b[49m\u001b[43mf\u001b[49m\u001b[43m,\u001b[49m\u001b[43m \u001b[49m\u001b[43mfolder\u001b[49m\u001b[43m,\u001b[49m\u001b[43m \u001b[49m\u001b[43mlog_suffix\u001b[49m\u001b[43m)\u001b[49m \u001b[38;5;28;01mfor\u001b[39;00m f \u001b[38;5;129;01min\u001b[39;00m format_strings]\n\u001b[32m    663\u001b[39m logger = Logger(folder=folder, output_formats=output_formats)\n\u001b[32m    664\u001b[39m \u001b[38;5;66;03m# Only print when some files will be saved\u001b[39;00m\n",
      "\u001b[36mFile \u001b[39m\u001b[32mc:\\Users\\darcy\\Documents\\wordrl\\venv\\Lib\\site-packages\\stable_baselines3\\common\\logger.py:467\u001b[39m, in \u001b[36mmake_output_format\u001b[39m\u001b[34m(_format, log_dir, log_suffix)\u001b[39m\n\u001b[32m    465\u001b[39m     \u001b[38;5;28;01mreturn\u001b[39;00m CSVOutputFormat(os.path.join(log_dir, \u001b[33mf\u001b[39m\u001b[33m\"\u001b[39m\u001b[33mprogress\u001b[39m\u001b[38;5;132;01m{\u001b[39;00mlog_suffix\u001b[38;5;132;01m}\u001b[39;00m\u001b[33m.csv\u001b[39m\u001b[33m\"\u001b[39m))\n\u001b[32m    466\u001b[39m \u001b[38;5;28;01melif\u001b[39;00m _format == \u001b[33m\"\u001b[39m\u001b[33mtensorboard\u001b[39m\u001b[33m\"\u001b[39m:\n\u001b[32m--> \u001b[39m\u001b[32m467\u001b[39m     \u001b[38;5;28;01mreturn\u001b[39;00m \u001b[43mTensorBoardOutputFormat\u001b[49m\u001b[43m(\u001b[49m\u001b[43mlog_dir\u001b[49m\u001b[43m)\u001b[49m\n\u001b[32m    468\u001b[39m \u001b[38;5;28;01melse\u001b[39;00m:\n\u001b[32m    469\u001b[39m     \u001b[38;5;28;01mraise\u001b[39;00m \u001b[38;5;167;01mValueError\u001b[39;00m(\u001b[33mf\u001b[39m\u001b[33m\"\u001b[39m\u001b[33mUnknown format specified: \u001b[39m\u001b[38;5;132;01m{\u001b[39;00m_format\u001b[38;5;132;01m}\u001b[39;00m\u001b[33m\"\u001b[39m)\n",
      "\u001b[36mFile \u001b[39m\u001b[32mc:\\Users\\darcy\\Documents\\wordrl\\venv\\Lib\\site-packages\\stable_baselines3\\common\\logger.py:399\u001b[39m, in \u001b[36mTensorBoardOutputFormat.__init__\u001b[39m\u001b[34m(self, folder)\u001b[39m\n\u001b[32m    398\u001b[39m \u001b[38;5;28;01mdef\u001b[39;00m\u001b[38;5;250m \u001b[39m\u001b[34m__init__\u001b[39m(\u001b[38;5;28mself\u001b[39m, folder: \u001b[38;5;28mstr\u001b[39m):\n\u001b[32m--> \u001b[39m\u001b[32m399\u001b[39m     \u001b[38;5;28;01massert\u001b[39;00m SummaryWriter \u001b[38;5;129;01mis\u001b[39;00m \u001b[38;5;129;01mnot\u001b[39;00m \u001b[38;5;28;01mNone\u001b[39;00m, \u001b[33m\"\u001b[39m\u001b[33mtensorboard is not installed, you can use `pip install tensorboard` to do so\u001b[39m\u001b[33m\"\u001b[39m\n\u001b[32m    400\u001b[39m     \u001b[38;5;28mself\u001b[39m.writer = SummaryWriter(log_dir=folder)\n\u001b[32m    401\u001b[39m     \u001b[38;5;28mself\u001b[39m._is_closed = \u001b[38;5;28;01mFalse\u001b[39;00m\n",
      "\u001b[31mAssertionError\u001b[39m: tensorboard is not installed, you can use `pip install tensorboard` to do so"
     ]
    }
   ],
   "source": [
    "from wordle_env import WordleEnv, WordleTokens\n",
    "from stable_baselines3 import PPO\n",
    "from gymnasium.wrappers import RecordEpisodeStatistics\n",
    "from stable_baselines3.common.logger import configure\n",
    "from datetime import datetime\n",
    "\n",
    "log_dir = \"runs/ppo\"\n",
    "new_logger = configure(folder=log_dir, format_strings=[\"stdout\", \"csv\", \"tensorboard\"])\n",
    "\n",
    "env = RecordEpisodeStatistics(\n",
    "    WordleEnv(calendar=None, eval_mode=False),  # training\n",
    ")\n",
    "\n",
    "model = PPO(\n",
    "    \"MlpPolicy\", \n",
    "    env, \n",
    "    tensorboard_log=log_dir,\n",
    "    device='cuda', \n",
    "    verbose=1, \n",
    "    policy_kwargs=dict(\n",
    "        features_extractor_class=WordleTokens,\n",
    "        net_arch=[256,256]\n",
    "    )\n",
    ")\n",
    "\n",
    "model.set_logger(new_logger)\n",
    "model.learn(total_timesteps=1_000_000, tb_log_name=f\"ppo_{datetime.now()}\")"
   ]
  },
  {
   "cell_type": "code",
   "execution_count": 10,
   "id": "9f23d6de",
   "metadata": {},
   "outputs": [],
   "source": [
    "eval_env = WordleEnv(target='acorn', eval_mode=True)\n",
    "obs, _ = eval_env.reset()\n",
    "done = False\n",
    "while not done:\n",
    "    action, _states = model.predict(obs, deterministic=True)\n",
    "    obs, reward, done, truncated, info = eval_env.step(action)"
   ]
  },
  {
   "cell_type": "code",
   "execution_count": 11,
   "id": "b76dec37",
   "metadata": {},
   "outputs": [
    {
     "name": "stdout",
     "output_type": "stream",
     "text": [
      "ABODE 🟩⬜🟩⬜⬜\n",
      "ABASE 🟩⬜⬜⬜⬜\n",
      "AGONY 🟩⬜🟩🟨⬜\n",
      "ACORN 🟩🟩🟩🟩🟩\n",
      "\n"
     ]
    }
   ],
   "source": [
    "import string\n",
    "symbols = { -1: \"·\", 0: \"⬜\", 1: \"🟨\", 2: \"🟩\" }\n",
    "IDX2LETTER = {i: c for i, c in enumerate(string.ascii_uppercase)}\n",
    "output = \"\"\n",
    "for i in obs:\n",
    "    word = \"\"\n",
    "    tiles = \"\"\n",
    "    for j in i:\n",
    "        if j[1] == -1:\n",
    "            break\n",
    "        word += IDX2LETTER[j[0]]\n",
    "        tiles += symbols[j[1]]\n",
    "    output += f\"{word} {tiles}\\n\" if tiles != \"\" else \"\"\n",
    "print(output)"
   ]
  },
  {
   "cell_type": "code",
   "execution_count": null,
   "id": "3dfa1da0",
   "metadata": {},
   "outputs": [],
   "source": []
  }
 ],
 "metadata": {
  "kernelspec": {
   "display_name": "venv",
   "language": "python",
   "name": "python3"
  },
  "language_info": {
   "codemirror_mode": {
    "name": "ipython",
    "version": 3
   },
   "file_extension": ".py",
   "mimetype": "text/x-python",
   "name": "python",
   "nbconvert_exporter": "python",
   "pygments_lexer": "ipython3",
   "version": "3.12.3"
  }
 },
 "nbformat": 4,
 "nbformat_minor": 5
}
